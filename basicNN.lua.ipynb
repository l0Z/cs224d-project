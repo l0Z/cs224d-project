{
 "cells": [
  {
   "cell_type": "code",
   "execution_count": 36,
   "metadata": {
    "collapsed": false
   },
   "outputs": [],
   "source": [
    "require 'torch'\n",
    "require 'nn'\n",
    "require 'optim'\n",
    "require 'xlua'\n",
    "torch.manualSeed(123)\n",
    "ffi = require('ffi')"
   ]
  },
  {
   "cell_type": "code",
   "execution_count": 37,
   "metadata": {
    "collapsed": false
   },
   "outputs": [],
   "source": [
    "--LOAD WORD VECTORS\n",
    "\n",
    "--Load custom word2vec word vectors\n",
    "function load_word2vec(w2vpath, inputDim)\n",
    "    local path = w2vpath\n",
    "    local inputDim = inputDim\n",
    "    print('Using custom word vectors')\n",
    "    local ignore = io.open(opt.wordTable,\"r\")\n",
    "    if ignore ~= nil then\n",
    "      io.close(ignore)\n",
    "      return torch.load(opt.wordTable)\n",
    "    end\n",
    "    local word2vec_file = io.open(path)\n",
    "    local word2vec_table = {}\n",
    "\n",
    "    local line = word2vec_file:read(\"*l\")\n",
    "    while line do\n",
    "        -- read the word2vec text file one line at a time, break at EOF\n",
    "        local i = 1\n",
    "        local word = \"\"\n",
    "        for entry in line:gmatch(\"%S+\") do -- split the line at each space\n",
    "            if i == 1 then\n",
    "                -- word comes first in each line, so grab it and create new table entry\n",
    "                word = entry:gsub(\"%p+\", \"\"):lower() -- remove all punctuation and change to lower case\n",
    "                if string.len(word) > 0 then\n",
    "                    word2vec_table[word] = torch.zeros(inputDim, 1) -- padded with an extra dimension for convolution\n",
    "                else\n",
    "                    break\n",
    "                end\n",
    "            else\n",
    "                -- read off and store each word vector element\n",
    "                word2vec_table[word][i-1] = tonumber(entry)\n",
    "            end\n",
    "            i = i+1\n",
    "        end\n",
    "        line = word2vec_file:read(\"*l\")\n",
    "    end\n",
    "    print('Saving dictionary as torch file for later')\n",
    "    torch.save(opt.wordTable, word2vec_table)\n",
    "    return word2vec_table\n",
    "end\n",
    "\n",
    "--Load word vectors using glove or w2v\n",
    "function load_wordVector(wordVectorPath, inputDim, model)\n",
    "    print(\"Start loading word vectors\")\n",
    "    local inputDim = inputDim\n",
    "    local path = wordVectorPath\n",
    "    if model == 'wv' then\n",
    "      return load_word2vec(wordVectorPaht, inputDim)\n",
    "    end\n",
    "    local wordVector_file = io.open(path)\n",
    "    local wordVector_table = {}\n",
    "\n",
    "    local line = wordVector_file:read(\"*l\")\n",
    "    while line do\n",
    "        -- read the wordVector text file one line at a time, break at EOF\n",
    "        local i = 1\n",
    "        local word = \"\"\n",
    "        for entry in line:gmatch(\"%S+\") do -- split the line at each space\n",
    "            if i == 1 then\n",
    "                -- word comes first in each line, so grab it and create new table entry\n",
    "                word = entry:gsub(\"%p+\", \"\"):lower() -- remove all punctuation and change to lower case\n",
    "                if string.len(word) > 0 then\n",
    "                    wordVector_table[word] = torch.zeros(inputDim, 1) -- padded with an extra dimension for convolution\n",
    "                else\n",
    "                    break\n",
    "                end\n",
    "            else\n",
    "                -- read off and store each word vector element\n",
    "                wordVector_table[word][i-1] = tonumber(entry)\n",
    "            end\n",
    "            i = i+1\n",
    "        end\n",
    "        line = wordVector_file:read(\"*l\")\n",
    "    end\n",
    "    \n",
    "    return wordVector_table\n",
    "end"
   ]
  },
  {
   "cell_type": "code",
   "execution_count": 41,
   "metadata": {
    "collapsed": false,
    "scrolled": false
   },
   "outputs": [
    {
     "data": {
      "text/plain": [
       "\n"
      ]
     },
     "execution_count": 41,
     "metadata": {},
     "output_type": "execute_result"
    },
    {
     "data": {
      "text/plain": [
       "\n"
      ]
     },
     "execution_count": 41,
     "metadata": {},
     "output_type": "execute_result"
    }
   ],
   "source": [
    "wordVector_table = load_wordVector('data/glove/glove.6B.50d.txt', 50, 'glove')\n",
    "\n",
    "print 'Done reading glove vectors'"
   ]
  },
  {
   "cell_type": "code",
   "execution_count": 42,
   "metadata": {
    "collapsed": false
   },
   "outputs": [
    {
     "data": {
      "text/plain": [
       "-0.6053\n",
       "-0.0176\n",
       "-0.1286\n",
       "-0.4813\n",
       "-0.3901\n",
       "-0.7121\n",
       " 1.1191\n",
       "-0.2722\n",
       "-0.3588\n",
       "-0.3058\n",
       "-0.1848\n",
       "-0.1754\n",
       " 0.2507\n",
       " 0.5421\n",
       " 0.3891\n",
       " 0.3205\n",
       " 0.1321\n",
       "-0.3670\n",
       " 0.3665\n",
       " 0.0453\n",
       "-0.2386\n",
       "-0.8912\n",
       " 0.0598\n",
       " 0.5980\n",
       " 0.0915\n",
       " 1.1023\n",
       "-0.6277\n",
       "-0.1393\n",
       " 0.1246\n",
       " 0.2351\n",
       "-1.3666\n",
       " 0.4560\n",
       "-0.3977\n",
       " 0.0718\n",
       "-0.2388\n",
       " 0.2346\n",
       "-0.3292\n",
       "-0.4680\n",
       "-0.3222\n",
       " 0.1662\n",
       "-0.2541\n",
       "-0.1253\n",
       "-0.0565\n",
       " 0.2717\n",
       " 0.0275\n",
       "-0.1670\n",
       " 1.5806\n",
       " 0.0723\n",
       "-0.1653\n",
       " 0.0037\n",
       "[torch.DoubleTensor of size 50x1]\n",
       "\n"
      ]
     },
     "execution_count": 42,
     "metadata": {},
     "output_type": "execute_result"
    }
   ],
   "source": [
    "wordVector_table['the']"
   ]
  },
  {
   "cell_type": "code",
   "execution_count": null,
   "metadata": {
    "collapsed": true
   },
   "outputs": [],
   "source": []
  }
 ],
 "metadata": {
  "kernelspec": {
   "display_name": "iTorch",
   "language": "lua",
   "name": "itorch"
  },
  "language_info": {
   "name": "lua",
   "version": "20100"
  }
 },
 "nbformat": 4,
 "nbformat_minor": 0
}
