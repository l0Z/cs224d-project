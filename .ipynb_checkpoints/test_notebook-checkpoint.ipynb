{
 "cells": [
  {
   "cell_type": "code",
   "execution_count": 1,
   "metadata": {
    "collapsed": false
   },
   "outputs": [],
   "source": [
    "require \"torch\"\n",
    "require \"nn\""
   ]
  },
  {
   "cell_type": "code",
   "execution_count": 2,
   "metadata": {
    "collapsed": true
   },
   "outputs": [],
   "source": [
    "t_lt = nn.LookupTable(100, 3)\n",
    "t_lt:reset()\n",
    "t_mean = nn.Mean(1)"
   ]
  },
  {
   "cell_type": "code",
   "execution_count": 3,
   "metadata": {
    "collapsed": false
   },
   "outputs": [],
   "source": [
    "t = torch.Tensor(5)\n",
    "t[1] = 7\n",
    "t[2] = 45\n",
    "t[3] = 76\n",
    "t[4] = 95\n",
    "t[5] = 43"
   ]
  },
  {
   "cell_type": "code",
   "execution_count": 4,
   "metadata": {
    "collapsed": false
   },
   "outputs": [
    {
     "data": {
      "text/plain": [
       "-1.1265  1.2452 -2.0120\n",
       "-0.0540  0.1677 -1.7831\n",
       " 1.2336  0.2740  0.1368\n",
       "-1.0445  0.2417 -1.2524\n",
       "-1.1594  0.8143  1.4927\n",
       "[torch.DoubleTensor of size 5x3]\n",
       "\n"
      ]
     },
     "execution_count": 4,
     "metadata": {},
     "output_type": "execute_result"
    }
   ],
   "source": [
    "t_lt:updateOutput(t)"
   ]
  },
  {
   "cell_type": "code",
   "execution_count": 5,
   "metadata": {
    "collapsed": false
   },
   "outputs": [
    {
     "data": {
      "text/plain": [
       "-0.4302\n",
       " 0.5486\n",
       "-0.6836\n",
       "[torch.DoubleTensor of size 3]\n",
       "\n"
      ]
     },
     "execution_count": 5,
     "metadata": {},
     "output_type": "execute_result"
    }
   ],
   "source": [
    "t_mean(t_lt:updateOutput(t))"
   ]
  },
  {
   "cell_type": "code",
   "execution_count": 6,
   "metadata": {
    "collapsed": false
   },
   "outputs": [
    {
     "data": {
      "text/plain": [
       "3\t\n"
      ]
     },
     "execution_count": 6,
     "metadata": {},
     "output_type": "execute_result"
    }
   ],
   "source": [
    "t_lt.size[2]"
   ]
  },
  {
   "cell_type": "code",
   "execution_count": 7,
   "metadata": {
    "collapsed": false
   },
   "outputs": [
    {
     "data": {
      "text/plain": [
       "\n"
      ]
     },
     "execution_count": 7,
     "metadata": {},
     "output_type": "execute_result"
    }
   ],
   "source": [
    "dofile \"avg_word_model.lua\""
   ]
  },
  {
   "cell_type": "code",
   "execution_count": 8,
   "metadata": {
    "collapsed": false
   },
   "outputs": [
    {
     "data": {
      "text/plain": [
       "{\n",
       "  a : DoubleTensor - size: 10\n",
       "  girl : DoubleTensor - size: 10\n",
       "  on : DoubleTensor - size: 10\n",
       "  the : DoubleTensor - size: 10\n",
       "  porch : DoubleTensor - size: 10\n",
       "}\n"
      ]
     },
     "execution_count": 8,
     "metadata": {},
     "output_type": "execute_result"
    }
   ],
   "source": [
    "test_embed = {}\n",
    "test_embed[\"a\"] = torch.Tensor(10):fill(1)\n",
    "test_embed[\"girl\"] = torch.Tensor(10):fill(2)\n",
    "test_embed[\"on\"] = torch.Tensor(10):fill(3)\n",
    "test_embed[\"the\"] = torch.Tensor(10):fill(4)\n",
    "test_embed[\"porch\"] = torch.Tensor(10):fill(5)\n",
    "print(test_embed)\n",
    "test_model = avg_word_model(test_embed, 5, 10, 8, 3)"
   ]
  },
  {
   "cell_type": "code",
   "execution_count": 9,
   "metadata": {
    "collapsed": false
   },
   "outputs": [
    {
     "data": {
      "text/plain": [
       "10\t\n"
      ]
     },
     "execution_count": 9,
     "metadata": {},
     "output_type": "execute_result"
    },
    {
     "data": {
      "text/plain": [
       " 1  1  1  1  1  1  1  1  1  1\n",
       " 2  2  2  2  2  2  2  2  2  2\n",
       " 3  3  3  3  3  3  3  3  3  3\n",
       " 4  4  4  4  4  4  4  4  4  4\n",
       " 5  5  5  5  5  5  5  5  5  5\n",
       " 0  0  0  0  0  0  0  0  0  0\n",
       "[torch.DoubleTensor of size 6x10]\n",
       "\n",
       "{\n",
       "  a : 1\n",
       "  girl : 2\n",
       "  on : 3\n",
       "  the : 4\n",
       "  porch : 5\n",
       "}\n",
       " 1\n",
       " 2\n",
       " 5\n",
       " 6\n",
       "[torch.LongTensor of size 4]\n",
       "\n"
      ]
     },
     "execution_count": 9,
     "metadata": {},
     "output_type": "execute_result"
    }
   ],
   "source": [
    "print(test_model.wvdim)\n",
    "print(test_model.lookup.weight)\n",
    "print(test_model.word_to_ind)\n",
    "tens = test_model:words_to_indices({\"a\", \"girl\", \"porch\", \"poach\"})"
   ]
  },
  {
   "cell_type": "code",
   "execution_count": null,
   "metadata": {
    "collapsed": true
   },
   "outputs": [],
   "source": [
    "print(test_model:uodateOutput(tens)) "
   ]
  }
 ],
 "metadata": {
  "kernelspec": {
   "display_name": "iTorch",
   "language": "lua",
   "name": "itorch"
  },
  "language_info": {
   "name": "lua",
   "version": "20100"
  }
 },
 "nbformat": 4,
 "nbformat_minor": 0
}
